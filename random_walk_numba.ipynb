{
 "cells": [
  {
   "cell_type": "code",
   "execution_count": null,
   "metadata": {
    "id": "g6KZAuh4cotZ"
   },
   "outputs": [],
   "source": [
    "import numpy as np\n",
    "import matplotlib.pyplot as plt\n",
    "import random\n",
    "import pandas as pd\n",
    "from numba import njit, prange, cuda, vectorize\n",
    "import cProfile"
   ]
  },
  {
   "cell_type": "code",
   "execution_count": null,
   "metadata": {
    "id": "NZN5pspUb2E9"
   },
   "outputs": [],
   "source": [
    "#@njit()\n",
    "def single_boundary(n, o_x=0, o_y=0, radius=200, step_limit = 5):\n",
    "    x=np.zeros(n)\n",
    "    y=np.zeros(n)\n",
    "    for i in range(1,n):\n",
    "        theta=2 * np.pi * random.random()\n",
    "        step=round(random.uniform(0, step_limit),2)\n",
    "        x[i] = x[i-1]+ step*np.cos(theta)\n",
    "        y[i] = y[i-1]+ step*np.sin(theta)\n",
    "        distance = (x[i] - o_x)**2 + (y[i] - o_y)**2\n",
    "    if distance > radius ** 2:\n",
    "        return x[0:i], y[0:i]\n",
    "    return x, y"
   ]
  },
  {
   "cell_type": "code",
   "execution_count": null,
   "metadata": {
    "id": "UeI8DeVOlVfB"
   },
   "outputs": [],
   "source": [
    "#@njit()\n",
    "def main_function(num_packets, steps):\n",
    "    packets_x = []\n",
    "    packets_y = []\n",
    "    for i in prange(num_packets):\n",
    "        x,y = single_boundary(steps)\n",
    "        packets_x.append(x)\n",
    "        packets_y.append(y)\n",
    "    return packets_x, packets_y"
   ]
  },
  {
   "cell_type": "code",
   "execution_count": null,
   "metadata": {},
   "outputs": [],
   "source": [
    "def plot_packets(packets_x, packets_y):\n",
    "    plt.figure(figsize=(20,10))\n",
    "    for i in range(len(packets_x)):\n",
    "        plt.plot(packets_x[i],packets_y[i])\n",
    "        plt.plot(packets_x[i][0],packets_y[i][0],color='green',marker='o')\n",
    "        plt.plot(packets_x[i][-1],packets_y[i][-1],color='red',marker='o')"
   ]
  },
  {
   "cell_type": "code",
   "execution_count": null,
   "metadata": {},
   "outputs": [],
   "source": [
    "x,y=main_function(1000,100000)"
   ]
  },
  {
   "cell_type": "code",
   "execution_count": null,
   "metadata": {},
   "outputs": [],
   "source": [
    "plot_packets(x,y)"
   ]
  },
  {
   "cell_type": "code",
   "execution_count": null,
   "metadata": {
    "colab": {
     "base_uri": "https://localhost:8080/"
    },
    "id": "Vx0PmnUXldge",
    "outputId": "40f704e4-7a82-4b3b-c481-f84b83e1e281"
   },
   "outputs": [],
   "source": [
    "%%timeit\n",
    "x,y=main_function(500,10000)"
   ]
  },
  {
   "cell_type": "code",
   "execution_count": null,
   "metadata": {
    "colab": {
     "base_uri": "https://localhost:8080/"
    },
    "id": "ZgGzgheEqXK0",
    "outputId": "4b53a8cf-e953-4fa7-e12d-15169c48e8ec"
   },
   "outputs": [],
   "source": [
    "%%timeit\n",
    "x,y=main_function(500,10000)"
   ]
  },
  {
   "cell_type": "code",
   "execution_count": null,
   "metadata": {
    "colab": {
     "base_uri": "https://localhost:8080/"
    },
    "id": "3XDB-jx6eXg5",
    "outputId": "932478d4-aefa-4e22-db54-b503554ac2eb"
   },
   "outputs": [],
   "source": [
    "# njit\n",
    "cProfile.run('main_function(1000,100000)')"
   ]
  },
  {
   "cell_type": "code",
   "execution_count": null,
   "metadata": {
    "colab": {
     "base_uri": "https://localhost:8080/"
    },
    "id": "28ikzTY5fzgg",
    "outputId": "e549445e-2406-466c-b7d4-f4ed871df495"
   },
   "outputs": [],
   "source": [
    "# normal\n",
    "cProfile.run('main_function(1000,100000)')"
   ]
  }
 ],
 "metadata": {
  "colab": {
   "collapsed_sections": [],
   "name": "random_walk.ipynb",
   "provenance": []
  },
  "kernelspec": {
   "display_name": "deepthought",
   "language": "python",
   "name": "deepthought"
  },
  "language_info": {
   "codemirror_mode": {
    "name": "ipython",
    "version": 3
   },
   "file_extension": ".py",
   "mimetype": "text/x-python",
   "name": "python",
   "nbconvert_exporter": "python",
   "pygments_lexer": "ipython3",
   "version": "3.8.2"
  }
 },
 "nbformat": 4,
 "nbformat_minor": 1
}
